{
 "cells": [
  {
   "cell_type": "markdown",
   "metadata": {},
   "source": [
    "# DATA CLEANING\n"
   ]
  },
  {
   "cell_type": "code",
   "execution_count": null,
   "metadata": {},
   "outputs": [
    {
     "name": "stdout",
     "output_type": "stream",
     "text": [
      "          Date  YLD_YTM_MID  Total\n",
      "0   2011-01-31        8.545   5366\n",
      "1   2011-02-28        8.517  -3268\n",
      "2   2011-03-31        8.349   6880\n",
      "3   2011-04-29        8.475   7195\n",
      "4   2011-05-31        8.668  -4275\n",
      "..         ...          ...    ...\n",
      "130 2024-05-31        7.224 -12911\n",
      "131 2024-06-28        7.035  41757\n",
      "132 2024-07-31        6.997  48796\n",
      "133 2024-08-30        6.940  25493\n",
      "134        NaT        6.853  93538\n",
      "\n",
      "[135 rows x 3 columns]\n"
     ]
    }
   ],
   "source": [
    "import pandas as pd\n",
    "\n",
    "# Read the Excel file\n",
    "df = pd.read_excel('GovtBonds+FPIs.xlsx')\n",
    "\n",
    "# Create a DataFrame with Date, YLD_YTM_MID, and Total columns\n",
    "yield_total_df = df[['Date', 'YLD_YTM_MID', 'Total']].copy()\n",
    "\n",
    "# Display the new DataFrame\n",
    "print(yield_total_df)\n",
    "\n"
   ]
  }
 ],
 "metadata": {
  "kernelspec": {
   "display_name": ".venv",
   "language": "python",
   "name": "python3"
  },
  "language_info": {
   "codemirror_mode": {
    "name": "ipython",
    "version": 3
   },
   "file_extension": ".py",
   "mimetype": "text/x-python",
   "name": "python",
   "nbconvert_exporter": "python",
   "pygments_lexer": "ipython3",
   "version": "3.12.7"
  }
 },
 "nbformat": 4,
 "nbformat_minor": 2
}
