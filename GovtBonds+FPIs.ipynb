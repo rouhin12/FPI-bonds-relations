{
 "cells": [
  {
   "cell_type": "markdown",
   "metadata": {},
   "source": [
    "# DATA CLEANING\n"
   ]
  },
  {
   "cell_type": "code",
   "execution_count": 2,
   "metadata": {},
   "outputs": [
    {
     "name": "stdout",
     "output_type": "stream",
     "text": [
      "          Date  YLD_YTM_MID  Total\n",
      "0   2011-01-31        8.545   5366\n",
      "1   2011-02-28        8.517  -3268\n",
      "2   2011-03-31        8.349   6880\n",
      "3   2011-04-29        8.475   7195\n",
      "4   2011-05-31        8.668  -4275\n",
      "..         ...          ...    ...\n",
      "130 2024-05-31        7.224 -12911\n",
      "131 2024-06-28        7.035  41757\n",
      "132 2024-07-31        6.997  48796\n",
      "133 2024-08-30        6.940  25493\n",
      "134        NaT        6.853  93538\n",
      "\n",
      "[135 rows x 3 columns]\n"
     ]
    }
   ],
   "source": [
    "import pandas as pd\n",
    "import numpy as np\n",
    "from statsmodels.tsa.stattools import adfuller\n",
    "\n",
    "\n",
    "# Read the Excel file\n",
    "df = pd.read_excel('GovtBonds+FPIs.xlsx')\n",
    "\n",
    "# Create a DataFrame with Date, YLD_YTM_MID, and Total columns\n",
    "yield_total_df = df[['Date', 'YLD_YTM_MID', 'Total']].copy()\n",
    "\n",
    "# Display the new DataFrame\n",
    "print(yield_total_df)\n",
    "\n"
   ]
  },
  {
   "cell_type": "code",
   "execution_count": 3,
   "metadata": {},
   "outputs": [
    {
     "name": "stdout",
     "output_type": "stream",
     "text": [
      "          Date  Yld_Returns  Total_Returns\n",
      "3   2011-04-29     0.014979       0.044768\n",
      "6   2011-07-29     0.020278       0.779672\n",
      "8   2011-09-30     0.000116      -1.444108\n",
      "12  2012-01-31    -0.018621       0.185175\n",
      "13  2012-02-29    -0.005701       0.291294\n",
      "..         ...          ...            ...\n",
      "127 2024-02-29    -0.026945      -0.977189\n",
      "128 2024-03-29    -0.002384       0.491166\n",
      "130 2024-05-31    -0.003593      -0.230628\n",
      "132 2024-07-31    -0.005416       0.155781\n",
      "133 2024-08-30    -0.008180      -0.649244\n",
      "\n",
      "[83 rows x 3 columns]\n"
     ]
    },
    {
     "name": "stderr",
     "output_type": "stream",
     "text": [
      "e:\\Rouhin Projects\\Nityoday. Geetha. I RP\\.venv\\Lib\\site-packages\\pandas\\core\\arraylike.py:399: RuntimeWarning: invalid value encountered in log\n",
      "  result = getattr(ufunc, method)(*inputs, **kwargs)\n"
     ]
    }
   ],
   "source": [
    "yield_total_df['Yld_Returns'] = np.log(yield_total_df['YLD_YTM_MID'] / yield_total_df['YLD_YTM_MID'].shift(1))\n",
    "yield_total_df['Total_Returns'] = np.log(yield_total_df['Total'] / yield_total_df['Total'].shift(1))\n",
    "\n",
    "# Drop rows with NaN values resulting from the shift operation\n",
    "log_returns_df = yield_total_df[['Date', 'Yld_Returns','Total_Returns']].dropna()\n",
    "\n",
    "# Display the DataFrame with log returns\n",
    "print(log_returns_df)"
   ]
  },
  {
   "cell_type": "code",
   "execution_count": 4,
   "metadata": {},
   "outputs": [
    {
     "name": "stdout",
     "output_type": "stream",
     "text": [
      "ADF Statistic: -10.300139435094742\n",
      "p-value: 3.3890961216567764e-18\n",
      "Critical Values:\n",
      "   1%: -3.512738056978279\n",
      "   5%: -2.8974898650628984\n",
      "   10%: -2.585948732897085\n",
      "The Total_return series is stationary.\n",
      "ADF Statistic for Yld_Returns: -10.319669832379766\n",
      "p-value for Yld_Returns: 3.0321692318249343e-18\n",
      "Critical Values for Yld_Returns:\n",
      "   1%: -3.4808880719210005\n",
      "   5%: -2.8836966192225284\n",
      "   10%: -2.5785857598714417\n",
      "The Yld_Returns series is stationary.\n"
     ]
    }
   ],
   "source": [
    "result = adfuller(yield_total_df['Total_Returns'].dropna())\n",
    "\n",
    "# Print the test results\n",
    "print('ADF Statistic:', result[0])\n",
    "print('p-value:', result[1])\n",
    "print('Critical Values:')\n",
    "for key, value in result[4].items():\n",
    "    print(f'   {key}: {value}')\n",
    "\n",
    "# Check if the series is stationary\n",
    "if result[1] < 0.05:\n",
    "    print(\"The Total_return series is stationary.\")\n",
    "else:\n",
    "    print(\"The series is not stationary.\")\n",
    "\n",
    "result_yld = adfuller(yield_total_df['Yld_Returns'].dropna())\n",
    "\n",
    "# Print the test results for Yld_Returns\n",
    "print('ADF Statistic for Yld_Returns:', result_yld[0])\n",
    "print('p-value for Yld_Returns:', result_yld[1])\n",
    "print('Critical Values for Yld_Returns:')\n",
    "for key, value in result_yld[4].items():\n",
    "    print(f'   {key}: {value}')\n",
    "\n",
    "# Check if the Yld_Returns series is stationary\n",
    "if result_yld[1] < 0.05:\n",
    "    print(\"The Yld_Returns series is stationary.\")\n",
    "else:\n",
    "    print(\"The Yld_Returns series is not stationary.\")"
   ]
  },
  {
   "cell_type": "code",
   "execution_count": 5,
   "metadata": {},
   "outputs": [
    {
     "name": "stdout",
     "output_type": "stream",
     "text": [
      "                                Date  YLD_YTM_MID          Total  Yld_Returns  \\\n",
      "count                            134   135.000000     135.000000   134.000000   \n",
      "mean   2017-11-10 20:46:34.029850624     7.672267    8565.600000    -0.001647   \n",
      "min              2011-01-31 00:00:00     6.490000 -118203.000000    -0.083828   \n",
      "25%              2014-08-15 06:00:00     7.166500   -4586.500000    -0.019345   \n",
      "50%              2017-09-30 12:00:00     7.562000   10653.000000    -0.002300   \n",
      "75%              2021-04-22 12:00:00     8.163500   22555.000000     0.014577   \n",
      "max              2024-08-30 00:00:00     9.420000   93538.000000     0.102474   \n",
      "std                              NaN     0.664613   26186.145217     0.027643   \n",
      "\n",
      "       Total_Returns  \n",
      "count      84.000000  \n",
      "mean       -0.028975  \n",
      "min        -2.977365  \n",
      "25%        -0.653546  \n",
      "50%        -0.037258  \n",
      "75%         0.492238  \n",
      "max         3.356071  \n",
      "std         1.123496  \n"
     ]
    }
   ],
   "source": [
    "# Generate descriptive statistics\n",
    "descriptive_stats = yield_total_df.describe()\n",
    "\n",
    "# Display the descriptive statistics\n",
    "print(descriptive_stats)"
   ]
  },
  {
   "cell_type": "code",
   "execution_count": 6,
   "metadata": {},
   "outputs": [
    {
     "name": "stdout",
     "output_type": "stream",
     "text": [
      "Augmented Dickey-Fuller Test: Yld_Returns\n",
      "ADF Test Statistic     -8.542938e+00\n",
      "p-value                 9.672782e-14\n",
      "# Lags Used             1.000000e+00\n",
      "# Observations Used     8.100000e+01\n",
      "Critical Value (1%)    -3.513790e+00\n",
      "Critical Value (5%)    -2.897943e+00\n",
      "Critical Value (10%)   -2.586191e+00\n",
      "\n",
      "Augmented Dickey-Fuller Test: Total_Returns\n",
      "ADF Test Statistic     -1.028071e+01\n",
      "p-value                 3.786235e-18\n",
      "# Lags Used             1.000000e+00\n",
      "# Observations Used     8.100000e+01\n",
      "Critical Value (1%)    -3.513790e+00\n",
      "Critical Value (5%)    -2.897943e+00\n",
      "Critical Value (10%)   -2.586191e+00\n",
      "\n"
     ]
    }
   ],
   "source": [
    "# Perform Augmented Dickey-Fuller test\n",
    "def adf_test(series, title=''):\n",
    "    \"\"\"\n",
    "    Pass in a time series and an optional title, returns an ADF report\n",
    "    \"\"\"\n",
    "    print(f'Augmented Dickey-Fuller Test: {title}')\n",
    "    result = adfuller(series.dropna(), autolag='AIC')\n",
    "    labels = ['ADF Test Statistic', 'p-value', '# Lags Used', '# Observations Used']\n",
    "    out = pd.Series(result[0:4], index=labels)\n",
    "    for key, value in result[4].items():\n",
    "        out[f'Critical Value ({key})'] = value\n",
    "    print(out.to_string())\n",
    "    print('')\n",
    "\n",
    "# Perform ADF test on Yld_Returns and Total_Returns\n",
    "adf_test(log_returns_df['Yld_Returns'], title='Yld_Returns')\n",
    "adf_test(log_returns_df['Total_Returns'], title='Total_Returns')"
   ]
  },
  {
   "cell_type": "code",
   "execution_count": 7,
   "metadata": {},
   "outputs": [
    {
     "name": "stdout",
     "output_type": "stream",
     "text": [
      "ADF Test with Intercept:\n",
      "ADF Statistic: -10.280709047906381\n",
      "p-value: 3.786234609647783e-18\n",
      "Critical Values:\n",
      "   1%: -3.5137900174243235\n",
      "   5%: -2.8979433868293945\n",
      "   10%: -2.5861907285474777\n",
      "\n",
      "ADF Test with Trend and Intercept:\n",
      "ADF Statistic: -10.38363554330066\n",
      "p-value: 3.666370251028592e-16\n",
      "Critical Values:\n",
      "   1%: -4.075121979053178\n",
      "   5%: -3.4661550774027594\n",
      "   10%: -3.1596113315495042\n",
      "\n",
      "ADF Test with None:\n",
      "ADF Statistic: -10.28613426339971\n",
      "p-value: 2.3681082683659117e-18\n",
      "Critical Values:\n",
      "   1%: -2.593895281207133\n",
      "   5%: -1.9447701769340342\n",
      "   10%: -1.6139069172683327\n",
      "\n"
     ]
    }
   ],
   "source": [
    "# ADF test with intercept\n",
    "result_intercept = adfuller(log_returns_df['Total_Returns'], regression='c')\n",
    "print('ADF Test with Intercept:')\n",
    "print('ADF Statistic:', result_intercept[0])\n",
    "print('p-value:', result_intercept[1])\n",
    "print('Critical Values:')\n",
    "for key, value in result_intercept[4].items():\n",
    "    print(f'   {key}: {value}')\n",
    "print('')\n",
    "\n",
    "# ADF test with trend and intercept\n",
    "result_trend_intercept = adfuller(log_returns_df['Total_Returns'], regression='ct')\n",
    "print('ADF Test with Trend and Intercept:')\n",
    "print('ADF Statistic:', result_trend_intercept[0])\n",
    "print('p-value:', result_trend_intercept[1])\n",
    "print('Critical Values:')\n",
    "for key, value in result_trend_intercept[4].items():\n",
    "    print(f'   {key}: {value}')\n",
    "print('')\n",
    "\n",
    "# ADF test with none\n",
    "result_none = adfuller(log_returns_df['Total_Returns'], regression='n')\n",
    "print('ADF Test with None:')\n",
    "print('ADF Statistic:', result_none[0])\n",
    "print('p-value:', result_none[1])\n",
    "print('Critical Values:')\n",
    "for key, value in result_none[4].items():\n",
    "    print(f'   {key}: {value}')\n",
    "print('')\n"
   ]
  },
  {
   "cell_type": "code",
   "execution_count": 8,
   "metadata": {},
   "outputs": [
    {
     "name": "stdout",
     "output_type": "stream",
     "text": [
      "               Yld_Returns  Total_Returns\n",
      "Yld_Returns       1.000000      -0.215887\n",
      "Total_Returns    -0.215887       1.000000\n"
     ]
    }
   ],
   "source": [
    "# Calculate the correlation between Yld_Returns and Total_Returns\n",
    "correlation = log_returns_df[['Yld_Returns', 'Total_Returns']].corr()\n",
    "\n",
    "# Display the correlation matrix\n",
    "print(correlation)"
   ]
  },
  {
   "cell_type": "code",
   "execution_count": 9,
   "metadata": {},
   "outputs": [
    {
     "name": "stdout",
     "output_type": "stream",
     "text": [
      "\n",
      "Granger Causality\n",
      "number of lags (no zero) 1\n",
      "ssr based F test:         F=0.0003  , p=0.9853  , df_denom=79, df_num=1\n",
      "ssr based chi2 test:   chi2=0.0004  , p=0.9850  , df=1\n",
      "likelihood ratio test: chi2=0.0004  , p=0.9850  , df=1\n",
      "parameter F test:         F=0.0003  , p=0.9853  , df_denom=79, df_num=1\n",
      "\n",
      "Granger Causality\n",
      "number of lags (no zero) 2\n",
      "ssr based F test:         F=0.0580  , p=0.9437  , df_denom=76, df_num=2\n",
      "ssr based chi2 test:   chi2=0.1237  , p=0.9400  , df=2\n",
      "likelihood ratio test: chi2=0.1236  , p=0.9401  , df=2\n",
      "parameter F test:         F=0.0580  , p=0.9437  , df_denom=76, df_num=2\n",
      "\n",
      "Granger Causality\n",
      "number of lags (no zero) 3\n",
      "ssr based F test:         F=0.3310  , p=0.8030  , df_denom=73, df_num=3\n",
      "ssr based chi2 test:   chi2=1.0882  , p=0.7799  , df=3\n",
      "likelihood ratio test: chi2=1.0808  , p=0.7817  , df=3\n",
      "parameter F test:         F=0.3310  , p=0.8030  , df_denom=73, df_num=3\n",
      "\n",
      "Granger Causality\n",
      "number of lags (no zero) 4\n",
      "ssr based F test:         F=0.3838  , p=0.8195  , df_denom=70, df_num=4\n",
      "ssr based chi2 test:   chi2=1.7325  , p=0.7848  , df=4\n",
      "likelihood ratio test: chi2=1.7138  , p=0.7882  , df=4\n",
      "parameter F test:         F=0.3838  , p=0.8195  , df_denom=70, df_num=4\n",
      "\n",
      "Granger Causality\n",
      "number of lags (no zero) 5\n",
      "ssr based F test:         F=1.1422  , p=0.3470  , df_denom=67, df_num=5\n",
      "ssr based chi2 test:   chi2=6.6486  , p=0.2481  , df=5\n",
      "likelihood ratio test: chi2=6.3804  , p=0.2709  , df=5\n",
      "parameter F test:         F=1.1422  , p=0.3470  , df_denom=67, df_num=5\n"
     ]
    },
    {
     "name": "stderr",
     "output_type": "stream",
     "text": [
      "e:\\Rouhin Projects\\Nityoday. Geetha. I RP\\.venv\\Lib\\site-packages\\statsmodels\\tsa\\stattools.py:1556: FutureWarning: verbose is deprecated since functions should not print results\n",
      "  warnings.warn(\n"
     ]
    }
   ],
   "source": [
    "from statsmodels.tsa.stattools import grangercausalitytests\n",
    "\n",
    "# Perform Granger causality test\n",
    "max_lag = 5\n",
    "granger_test_result = grangercausalitytests(log_returns_df[['Yld_Returns', 'Total_Returns']], max_lag, verbose=True)"
   ]
  },
  {
   "cell_type": "code",
   "execution_count": 14,
   "metadata": {},
   "outputs": [
    {
     "name": "stdout",
     "output_type": "stream",
     "text": [
      "                  Yld_Returns  Total_Returns\n",
      "const               -0.003606      -0.047129\n",
      "L1.Yld_Returns      -0.125105       3.042345\n",
      "L1.Total_Returns     0.001377      -0.341983\n",
      "L2.Yld_Returns      -0.184070       2.401466\n",
      "L2.Total_Returns     0.001896      -0.383369\n",
      "L3.Yld_Returns       0.137265       1.397363\n",
      "L3.Total_Returns     0.001258      -0.060793\n",
      "L4.Yld_Returns       0.029998       0.353730\n",
      "L4.Total_Returns     0.000128      -0.001378\n",
      "L5.Yld_Returns      -0.005389       0.992227\n",
      "L5.Total_Returns    -0.006452       0.045202\n",
      "  Summary of Regression Results   \n",
      "==================================\n",
      "Model:                         VAR\n",
      "Method:                        OLS\n",
      "Date:           Wed, 20, Nov, 2024\n",
      "Time:                     10:56:41\n",
      "--------------------------------------------------------------------\n",
      "No. of Equations:         2.00000    BIC:                   -6.11313\n",
      "Nobs:                     78.0000    HQIC:                  -6.51175\n",
      "Log likelihood:           64.9816    FPE:                 0.00114304\n",
      "AIC:                     -6.77785    Det(Omega_mle):     0.000877953\n",
      "--------------------------------------------------------------------\n",
      "Results for equation Yld_Returns\n",
      "===================================================================================\n",
      "                      coefficient       std. error           t-stat            prob\n",
      "-----------------------------------------------------------------------------------\n",
      "const                   -0.003606         0.003287           -1.097           0.273\n",
      "L1.Yld_Returns          -0.125105         0.120688           -1.037           0.300\n",
      "L1.Total_Returns         0.001377         0.003141            0.438           0.661\n",
      "L2.Yld_Returns          -0.184070         0.121494           -1.515           0.130\n",
      "L2.Total_Returns         0.001896         0.003313            0.572           0.567\n",
      "L3.Yld_Returns           0.137265         0.122535            1.120           0.263\n",
      "L3.Total_Returns         0.001258         0.003487            0.361           0.718\n",
      "L4.Yld_Returns           0.029998         0.120218            0.250           0.803\n",
      "L4.Total_Returns         0.000128         0.003296            0.039           0.969\n",
      "L5.Yld_Returns          -0.005389         0.119848           -0.045           0.964\n",
      "L5.Total_Returns        -0.006452         0.003130           -2.061           0.039\n",
      "===================================================================================\n",
      "\n",
      "Results for equation Total_Returns\n",
      "===================================================================================\n",
      "                      coefficient       std. error           t-stat            prob\n",
      "-----------------------------------------------------------------------------------\n",
      "const                   -0.047129         0.130541           -0.361           0.718\n",
      "L1.Yld_Returns           3.042345         4.792723            0.635           0.526\n",
      "L1.Total_Returns        -0.341983         0.124742           -2.742           0.006\n",
      "L2.Yld_Returns           2.401466         4.824726            0.498           0.619\n",
      "L2.Total_Returns        -0.383369         0.131548           -2.914           0.004\n",
      "L3.Yld_Returns           1.397363         4.866046            0.287           0.774\n",
      "L3.Total_Returns        -0.060793         0.138469           -0.439           0.661\n",
      "L4.Yld_Returns           0.353730         4.774058            0.074           0.941\n",
      "L4.Total_Returns        -0.001378         0.130870           -0.011           0.992\n",
      "L5.Yld_Returns           0.992227         4.759348            0.208           0.835\n",
      "L5.Total_Returns         0.045202         0.124295            0.364           0.716\n",
      "===================================================================================\n",
      "\n",
      "Correlation matrix of residuals\n",
      "                 Yld_Returns  Total_Returns\n",
      "Yld_Returns         1.000000      -0.192092\n",
      "Total_Returns      -0.192092       1.000000\n",
      "\n",
      "\n",
      "\n"
     ]
    },
    {
     "name": "stderr",
     "output_type": "stream",
     "text": [
      "e:\\Rouhin Projects\\Nityoday. Geetha. I RP\\.venv\\Lib\\site-packages\\statsmodels\\tsa\\base\\tsa_model.py:473: ValueWarning: An unsupported index was provided. As a result, forecasts cannot be generated. To use the model for forecasting, use one of the supported classes of index.\n",
      "  self._init_dates(dates, freq)\n"
     ]
    }
   ],
   "source": [
    "from statsmodels.tsa.api import VAR\n",
    "\n",
    "# Select the columns for the VAR model\n",
    "data_for_var = log_returns_df[['Yld_Returns', 'Total_Returns']]\n",
    "\n",
    "# Fit the VAR model\n",
    "model = VAR(data_for_var)\n",
    "fitted_model = model.fit(maxlags=max_lag)\n",
    "\n",
    "# Print the parameters of the fitted model\n",
    "print(fitted_model.params)\n",
    "# Print the summary of the fitted model\n",
    "print(fitted_model.summary())"
   ]
  }
 ],
 "metadata": {
  "kernelspec": {
   "display_name": ".venv",
   "language": "python",
   "name": "python3"
  },
  "language_info": {
   "codemirror_mode": {
    "name": "ipython",
    "version": 3
   },
   "file_extension": ".py",
   "mimetype": "text/x-python",
   "name": "python",
   "nbconvert_exporter": "python",
   "pygments_lexer": "ipython3",
   "version": "3.12.7"
  }
 },
 "nbformat": 4,
 "nbformat_minor": 2
}
